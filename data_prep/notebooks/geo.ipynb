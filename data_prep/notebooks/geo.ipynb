{
  "cells": [
    {
      "cell_type": "code",
      "execution_count": null,
      "id": "2967ecff-e0b4-4f6c-a57f-1f665b28a1e1",
      "metadata": {},
      "outputs": [],
      "source": [
        "%load_ext autoreload\n",
        "%autoreload 2\n",
        "\n",
        "import sys; sys.path.insert(0, '..')"
      ]
    },
    {
      "cell_type": "code",
      "execution_count": null,
      "id": "3084f0eb-06cf-4533-8233-092dec121655",
      "metadata": {},
      "outputs": [],
      "source": [
        "from src.util import sample_from_dict, load_saved_data"
      ]
    },
    {
      "cell_type": "code",
      "execution_count": null,
      "id": "8ffd1813-4c0b-4060-8735-1b770f68841b",
      "metadata": {},
      "outputs": [],
      "source": [
        "import json\n",
        "import random\n",
        "from rich import print\n",
        "import geopandas as gpd\n",
        "import pandas as pd"
      ]
    },
    {
      "cell_type": "markdown",
      "id": "4cbd6034-bb77-43b5-bc03-fd16be64424e",
      "metadata": {},
      "source": [
        "## Load data"
      ],
      "outputs": [],
      "execution_count": null
    },
    {
      "cell_type": "code",
      "execution_count": null,
      "id": "1e90ece0-3c7b-446e-8f6e-4e7c231bc8fe",
      "metadata": {},
      "outputs": [],
      "source": [
        "stations = pd.DataFrame(load_saved_data())\n",
        "datamaps = pd.read_json(\"../data/datamaps.json\")\n",
        "ne = gpd.read_file(\"../data/ne_50m_admin_0_countries.geojson\")\n",
        "centers = gpd.read_file(\"centers.geojson\")"
      ]
    },
    {
      "cell_type": "code",
      "execution_count": null,
      "id": "a67f5f66-e580-4966-bd2c-2224489b477e",
      "metadata": {},
      "outputs": [],
      "source": [
        "radio_countries = set(stations[\"country\"])\n",
        "len(radio_countries)"
      ]
    },
    {
      "cell_type": "code",
      "execution_count": null,
      "id": "cd22fb4e-87ae-4fdf-b0f9-af58dd66ba18",
      "metadata": {},
      "outputs": [],
      "source": [
        "df = ne.loc[:, [\"ADMIN\", \"ADM0_TLC\", \"ISO_A2\"]]"
      ]
    },
    {
      "cell_type": "code",
      "execution_count": null,
      "id": "76f098db-ac44-4335-b8a5-cd9cf2813696",
      "metadata": {},
      "outputs": [],
      "source": [
        "# only inlcude countries in radio dataset\n",
        "df = df[df[\"ADMIN\"].isin(radio_countries)]\n",
        "df.shape"
      ]
    },
    {
      "cell_type": "code",
      "execution_count": null,
      "id": "04dbb768-5114-4890-8b9a-8a693e09c614",
      "metadata": {},
      "outputs": [],
      "source": [
        "# merge with datamaps\n",
        "df = pd.merge(df, datamaps, left_on=\"ADM0_TLC\", right_on=\"id\")\n",
        "df.shape"
      ]
    },
    {
      "cell_type": "code",
      "execution_count": null,
      "id": "71a8732e-8af9-4dd7-a0cc-17e51b57ba7e",
      "metadata": {},
      "outputs": [],
      "source": [
        "# merge with centers\n",
        "df = pd.merge(df, centers, left_on=\"ISO_A2\", right_on=\"AFF_ISO\")\n",
        "df.shape"
      ]
    },
    {
      "cell_type": "code",
      "execution_count": null,
      "id": "5735c9d0-bbe7-40e4-8f09-a0f669017b9a",
      "metadata": {},
      "outputs": [],
      "source": [
        "df = df[[\"ADMIN\", \"AFF_ISO\", \"id\"]]\n",
        "df.columns = [\"name\", \"two_code\", \"three_code\",]"
      ]
    },
    {
      "cell_type": "code",
      "execution_count": null,
      "id": "a5e74f24-a579-44de-866b-a1f1d7afbe05",
      "metadata": {},
      "outputs": [],
      "source": [
        "df = df.reset_index(drop=True)"
      ]
    },
    {
      "cell_type": "code",
      "execution_count": null,
      "id": "3477c103-daab-441b-ae7a-1560bc95b635",
      "metadata": {},
      "outputs": [],
      "source": [
        "df.to_json(\"../data/out/source.json\", orient=\"records\")"
      ]
    },
    {
      "cell_type": "code",
      "execution_count": null,
      "id": "b3ce410e-5d36-434c-ad57-f5569b243292",
      "metadata": {},
      "outputs": [],
      "source": []
    },
    {
      "cell_type": "code",
      "execution_count": null,
      "id": "a55adbde-4765-4e6d-a1cd-c1a8391d7699",
      "metadata": {},
      "outputs": [],
      "source": []
    },
    {
      "cell_type": "markdown",
      "id": "49e7b4bd-bce2-4286-8d50-e22848ef1779",
      "metadata": {},
      "source": [
        "#### Prepare center"
      ],
      "outputs": [],
      "execution_count": null
    },
    {
      "cell_type": "code",
      "execution_count": null,
      "id": "e720a8d4-e93b-45f2-9c1d-08c040ac3545",
      "metadata": {},
      "outputs": [],
      "source": [
        "centers = gpd.read_file(\"../data/centers.geojson\")"
      ]
    },
    {
      "cell_type": "code",
      "execution_count": null,
      "id": "c624e91d-5cc1-402e-8e35-d1d644d62f5c",
      "metadata": {},
      "outputs": [],
      "source": [
        "centers_main = centers[centers[\"COUNTRY\"] == centers[\"COUNTRYAFF\"]]"
      ]
    },
    {
      "cell_type": "code",
      "execution_count": null,
      "id": "41b5ffd4-8db4-475b-b276-869ff550944e",
      "metadata": {},
      "outputs": [],
      "source": [
        "centers_main = centers_main[[\"COUNTRYAFF\", \"AFF_ISO\", \"geometry\"]]"
      ]
    },
    {
      "cell_type": "code",
      "execution_count": null,
      "id": "b29b29cd-52ec-477b-88dd-8c4cf73b9886",
      "metadata": {},
      "outputs": [],
      "source": [
        "centers_main.to_file(\"centers.geojson\", driver='GeoJSON')"
      ]
    },
    {
      "cell_type": "code",
      "execution_count": null,
      "id": "b46269dc-0b77-4c03-b1a2-b1485789c0f9",
      "metadata": {},
      "outputs": [],
      "source": []
    },
    {
      "cell_type": "code",
      "execution_count": null,
      "id": "2fb908c9-ee48-42ac-9137-e95d0db572e4",
      "metadata": {},
      "outputs": [],
      "source": []
    },
    {
      "cell_type": "code",
      "execution_count": null,
      "id": "5b9b62e4-e5f2-4777-8e6f-16699bee8ddf",
      "metadata": {},
      "outputs": [],
      "source": []
    },
    {
      "cell_type": "code",
      "execution_count": null,
      "id": "55f49ad7-5c04-4bd4-9dd4-60ddca5ce0b8",
      "metadata": {},
      "outputs": [],
      "source": []
    },
    {
      "cell_type": "code",
      "execution_count": null,
      "id": "2cacbc3c-0313-434b-ad3a-ccf7f0976fb0",
      "metadata": {},
      "outputs": [],
      "source": [
        "# ADM0_ISO, ISO_A2\n",
        "# list(ne.columns)"
      ]
    },
    {
      "cell_type": "code",
      "execution_count": null,
      "id": "b4e88dfc-c8dd-4b6f-aad5-359eba501fe6",
      "metadata": {},
      "outputs": [],
      "source": [
        "len(ne[\"ISO_A2\"].unique())"
      ]
    },
    {
      "cell_type": "code",
      "execution_count": null,
      "id": "fe33bd56-3dec-4885-bd54-3e668973b005",
      "metadata": {},
      "outputs": [],
      "source": []
    },
    {
      "cell_type": "code",
      "execution_count": null,
      "id": "9d615d2d-841e-42c6-ac50-bdae75736c46",
      "metadata": {},
      "outputs": [],
      "source": []
    },
    {
      "cell_type": "code",
      "execution_count": null,
      "id": "689bd64d-25de-48dc-a14e-9a30e3a064a2",
      "metadata": {},
      "outputs": [],
      "source": []
    },
    {
      "cell_type": "code",
      "execution_count": null,
      "id": "86fbe31d-8f4f-43f8-8071-e272633e8c88",
      "metadata": {},
      "outputs": [],
      "source": []
    },
    {
      "cell_type": "code",
      "execution_count": null,
      "id": "8c8db2ab-57a4-423e-a3b7-4c85a835c604",
      "metadata": {},
      "outputs": [],
      "source": [
        "centers"
      ]
    },
    {
      "cell_type": "code",
      "execution_count": null,
      "id": "37339250-0f28-4b67-877d-243841766274",
      "metadata": {},
      "outputs": [],
      "source": []
    },
    {
      "cell_type": "code",
      "execution_count": null,
      "id": "e7aaa2a7-363f-4b0c-bae9-8f821dec5b7d",
      "metadata": {},
      "outputs": [],
      "source": []
    },
    {
      "cell_type": "code",
      "execution_count": null,
      "id": "bad81e17-2541-4eeb-9721-41176ea8bec6",
      "metadata": {},
      "outputs": [],
      "source": []
    },
    {
      "cell_type": "markdown",
      "id": "185aeaff-7a1d-4950-b2b8-7d9ee3ba675f",
      "metadata": {},
      "source": [
        "## Match data"
      ],
      "outputs": [],
      "execution_count": null
    },
    {
      "cell_type": "markdown",
      "id": "c1d33a0b-3247-42b4-8db5-74c176e100c6",
      "metadata": {},
      "source": [
        "### Natural Earth"
      ],
      "outputs": [],
      "execution_count": null
    },
    {
      "cell_type": "code",
      "execution_count": null,
      "id": "b7335ba1-5a10-4326-b81b-10e352f812d9",
      "metadata": {},
      "outputs": [],
      "source": [
        "p = ne[\"geometry\"][0]"
      ]
    },
    {
      "cell_type": "code",
      "execution_count": null,
      "id": "ca253585-51e7-48ea-bb2f-9860dc1f1b85",
      "metadata": {},
      "outputs": [],
      "source": [
        "ne.shape"
      ]
    },
    {
      "cell_type": "code",
      "execution_count": null,
      "id": "ebc675fa-998e-4d92-bb6a-d2c24727f35e",
      "metadata": {},
      "outputs": [],
      "source": [
        "# seems to be the best unique key?\n",
        "len(ne[\"ADM0_TLC\"].unique())"
      ]
    },
    {
      "cell_type": "code",
      "execution_count": null,
      "id": "baecca91-3670-4c0c-838f-10df42d1c01b",
      "metadata": {},
      "outputs": [],
      "source": [
        "ne[\"MATCH\"] = False\n",
        "stations[\"ne_idx\"] = -1"
      ]
    },
    {
      "cell_type": "code",
      "execution_count": null,
      "id": "823dfcfa-2df7-42da-909c-0469ee99a421",
      "metadata": {},
      "outputs": [],
      "source": [
        "# radio_countries = list(set(stations.country))"
      ]
    },
    {
      "cell_type": "code",
      "execution_count": null,
      "id": "7535bb9e-27ef-4e4b-9005-3808041a96b9",
      "metadata": {},
      "outputs": [],
      "source": [
        "def find_idx(country):\n",
        "    \"\"\"Find ne index that corresponds to country name\"\"\"\n",
        "    cols = [\"NAME\", \"ADMIN\", \"NAME_LONG\"]\n",
        "    for col in cols:\n",
        "        match_idxs = ne.index[ne[col].str.fullmatch(c)].tolist()\n",
        "        if match_idxs:\n",
        "            idx = match_idxs[0]\n",
        "            ne.loc[idx, (\"MATCH\")] = True\n",
        "            return idx\n",
        "    return -1"
      ]
    },
    {
      "cell_type": "code",
      "execution_count": null,
      "id": "a8b8d0f6-dbe9-48fb-8203-7e2fae240399",
      "metadata": {},
      "outputs": [],
      "source": [
        "no_match = []\n",
        "match = []\n",
        "\n",
        "for i, c in stations.country.iteritems():\n",
        "    idx = find_idx(c)\n",
        "    stations.loc[i, (\"ne_idx\")] = idx\n",
        "    \n",
        "    if idx > -1:\n",
        "        match.append((c, idx))\n",
        "    else:\n",
        "        no_match.append(c)    "
      ]
    },
    {
      "cell_type": "code",
      "execution_count": null,
      "id": "e46a9206-b64b-4364-8ee0-7a674922f369",
      "metadata": {},
      "outputs": [],
      "source": [
        "# # --- OLD WAY ----\n",
        "\n",
        "# no_match = []\n",
        "# match = []\n",
        "\n",
        "# for c in radio_countries:\n",
        "#     idx = find(c)\n",
        "#     if idx:\n",
        "#         match.append((c, idx))\n",
        "#     else:\n",
        "#         no_match.append(c)"
      ]
    },
    {
      "cell_type": "code",
      "execution_count": null,
      "id": "3bb0b850-78d6-421e-93be-dba9e5117a90",
      "metadata": {},
      "outputs": [],
      "source": []
    },
    {
      "cell_type": "code",
      "execution_count": null,
      "id": "014e00bc-a46b-4fde-bf82-9711363e3c20",
      "metadata": {},
      "outputs": [],
      "source": [
        "matched = stations[stations[\"ne_idx\"] > -1]"
      ]
    },
    {
      "cell_type": "code",
      "execution_count": null,
      "id": "c789d7f8-3f85-47fa-991f-b07e31dc46ba",
      "metadata": {},
      "outputs": [],
      "source": [
        "matched"
      ]
    },
    {
      "cell_type": "code",
      "execution_count": null,
      "id": "92d5a763-b5a0-45d3-9aa7-a2ffd65b0e7b",
      "metadata": {},
      "outputs": [],
      "source": []
    },
    {
      "cell_type": "markdown",
      "id": "c816ab26-2266-4371-9b9b-9b0c093a61eb",
      "metadata": {},
      "source": [
        "### Finish up"
      ],
      "outputs": [],
      "execution_count": null
    },
    {
      "cell_type": "code",
      "execution_count": null,
      "id": "41dff289-20cf-411b-8ffd-ce668142475a",
      "metadata": {},
      "outputs": [],
      "source": [
        "code_col = \"ADM0_TLC\""
      ]
    },
    {
      "cell_type": "code",
      "execution_count": null,
      "id": "76fe923f-f994-4a51-8fd0-1b8898aff385",
      "metadata": {},
      "outputs": [],
      "source": [
        "data = pd.DataFrame(matched)\n",
        "data[\"code\"] = list(ne[code_col].iloc[matched[\"ne_idx\"]])"
      ]
    },
    {
      "cell_type": "code",
      "execution_count": null,
      "id": "b1d4c018-a2aa-434b-b6c3-ae49f2d8937c",
      "metadata": {},
      "outputs": [],
      "source": [
        "data.to_json(\"../data/out/radio.json\", orient='records')"
      ]
    },
    {
      "cell_type": "code",
      "execution_count": null,
      "id": "f34507d4-dd7a-4322-8643-5bb9bc661f3f",
      "metadata": {},
      "outputs": [],
      "source": []
    },
    {
      "cell_type": "code",
      "execution_count": null,
      "id": "edcb3d79-cd4f-41d9-a58f-e9c876891197",
      "metadata": {},
      "outputs": [],
      "source": []
    },
    {
      "cell_type": "code",
      "execution_count": null,
      "id": "a0eaad71-863a-4121-8877-915219774ec2",
      "metadata": {},
      "outputs": [],
      "source": []
    },
    {
      "cell_type": "code",
      "execution_count": null,
      "id": "16c59b8d-2087-4392-9352-446b229c998b",
      "metadata": {},
      "outputs": [],
      "source": []
    },
    {
      "cell_type": "code",
      "execution_count": null,
      "id": "e2592c86-9f84-4b38-b72f-f27ceee4ccf7",
      "metadata": {},
      "outputs": [],
      "source": []
    },
    {
      "cell_type": "code",
      "execution_count": null,
      "id": "3cd94c84-b50b-4b97-8c59-c044036d27fd",
      "metadata": {},
      "outputs": [],
      "source": []
    },
    {
      "cell_type": "code",
      "execution_count": null,
      "id": "cdff3c84-1eb1-478d-840f-12c3292fbf59",
      "metadata": {},
      "outputs": [],
      "source": [
        "missing = stations[stations[\"ne_idx\"] == -1]"
      ]
    },
    {
      "cell_type": "code",
      "execution_count": null,
      "id": "674e03ca-db55-4156-bf78-88ca82f2f4a1",
      "metadata": {},
      "outputs": [],
      "source": [
        "# missing"
      ]
    },
    {
      "cell_type": "code",
      "execution_count": null,
      "id": "97b62e4e-0940-4ae4-9675-9553987c7c8b",
      "metadata": {},
      "outputs": [],
      "source": []
    },
    {
      "cell_type": "code",
      "execution_count": null,
      "id": "082fb7df-8704-4a5b-9bf7-9560c76dd41d",
      "metadata": {},
      "outputs": [],
      "source": []
    },
    {
      "cell_type": "code",
      "execution_count": null,
      "id": "29090cff-b3af-44a0-b397-baf0d2ad09d7",
      "metadata": {},
      "outputs": [],
      "source": []
    },
    {
      "cell_type": "markdown",
      "id": "ff28bd90-6d8b-4eae-aa05-951dc3e0959c",
      "metadata": {},
      "source": [
        "### Fuzzy Matching"
      ],
      "outputs": [],
      "execution_count": null
    },
    {
      "cell_type": "code",
      "execution_count": null,
      "id": "23d3f7c8-1620-40bf-964b-4b1574967596",
      "metadata": {},
      "outputs": [],
      "source": [
        "from thefuzz import fuzz\n",
        "from thefuzz import process"
      ]
    },
    {
      "cell_type": "code",
      "execution_count": null,
      "id": "fb5923c9-fea6-4e7d-a891-2b7215cf5e6a",
      "metadata": {},
      "outputs": [],
      "source": [
        "missing = stations[stations[\"ne_idx\"] == -1]"
      ]
    },
    {
      "cell_type": "code",
      "execution_count": null,
      "id": "49132de8-f6ba-4e0f-b9ee-54ddf5913395",
      "metadata": {},
      "outputs": [],
      "source": [
        "ne_still = ne[ne[\"MATCH\"] == False]"
      ]
    },
    {
      "cell_type": "code",
      "execution_count": null,
      "id": "21177ecd-16dd-4615-ac40-276b1f4f1dfe",
      "metadata": {},
      "outputs": [],
      "source": [
        "ne_still.shape"
      ]
    },
    {
      "cell_type": "code",
      "execution_count": null,
      "id": "7db50a71-35c3-477b-ac0a-109c0022dcb4",
      "metadata": {},
      "outputs": [],
      "source": [
        "def fuzzy_find(country, col=\"ADMIN\"):\n",
        "    found = process.extract(\n",
        "        country, ne_still[col].to_dict(), limit=3, scorer=fuzz.partial_ratio)\n",
        "    for f in found:\n",
        "        if f[1] > 80:\n",
        "            return f\n",
        "    return None"
      ]
    },
    {
      "cell_type": "code",
      "execution_count": null,
      "id": "525b161a-1fb2-4b79-8981-59df51b4ebee",
      "metadata": {},
      "outputs": [],
      "source": [
        "fuzzy_find('Guadeloupe')"
      ]
    },
    {
      "cell_type": "code",
      "execution_count": null,
      "id": "7a1062da-02ea-4ec3-a256-187c94c146ee",
      "metadata": {},
      "outputs": [],
      "source": []
    },
    {
      "cell_type": "code",
      "execution_count": null,
      "id": "c58d8203-1c46-4d5c-8907-e5ee465bddb9",
      "metadata": {},
      "outputs": [],
      "source": []
    },
    {
      "cell_type": "code",
      "execution_count": null,
      "id": "a01d750a-59b3-4236-a9c2-2c7fa69de109",
      "metadata": {},
      "outputs": [],
      "source": [
        "# now_found = []\n",
        "# still_no_match = []\n",
        "\n",
        "# for c in no_match:\n",
        "#     match = fuzzy_find(c, \"ADMIN\")\n",
        "#     if match:\n",
        "#         now_found.append((c, match[-1]) + (match[0], match[1]))\n",
        "#     else:\n",
        "#         still_no_match.append(c)"
      ]
    },
    {
      "cell_type": "code",
      "execution_count": null,
      "id": "a6f78316-f058-4e5d-b528-28ad541a4cc0",
      "metadata": {},
      "outputs": [],
      "source": [
        "now_found = []\n",
        "still_no_match = []\n",
        "\n",
        "for i, c in missing.country.iteritems():\n",
        "    match = fuzzy_find(c, \"ADMIN\")\n",
        "    if match:\n",
        "        # stations.loc[i, (\"ne_idx\")] = idx    \n",
        "        now_found.append((c, match[-1]) + (match[0], match[1]))\n",
        "    else:\n",
        "        still_no_match.append(c)"
      ]
    },
    {
      "cell_type": "code",
      "execution_count": null,
      "id": "a75ee27c-eabc-4bc6-af42-dfc3cb2b725b",
      "metadata": {},
      "outputs": [],
      "source": [
        "fuzzy_find(\"Zimbabwe\")"
      ]
    },
    {
      "cell_type": "code",
      "execution_count": null,
      "id": "dff2c503-d344-4141-9b7e-787bd606de75",
      "metadata": {},
      "outputs": [],
      "source": [
        "pd.DataFrame(now_found, columns=[\"radio\", \"ne_idx\", \"ne_admin\", \"score\"])"
      ]
    },
    {
      "cell_type": "markdown",
      "id": "eb9719d8-a8d2-4aa9-a1ab-138399efc6b3",
      "metadata": {},
      "source": [
        "Everything good except:\n",
        "\n",
        "- Iraq\n",
        "- Guyana"
      ],
      "outputs": [],
      "execution_count": null
    },
    {
      "cell_type": "code",
      "execution_count": null,
      "id": "fbfa1122-6db5-415c-9cc6-4082115cf5ed",
      "metadata": {},
      "outputs": [],
      "source": []
    },
    {
      "cell_type": "code",
      "execution_count": null,
      "id": "fd12b2cc-b37b-4746-8053-9e24990a7f10",
      "metadata": {},
      "outputs": [],
      "source": [
        "for c in no_match:\n",
        "    match1 = fuzzy_find(c, \"ADMIN\")\n",
        "    match2 = fuzzy_find(c, \"NAME_LONG\")\n",
        "    \n",
        "    if match1 or match2:\n",
        "        print(\"-------\")\n",
        "        print(c)\n",
        "    \n",
        "    if match1:\n",
        "        print(\"ADMIN\", match1)\n",
        "    if match2:\n",
        "        print(\"NAME_LONG\", match2)\n",
        "    "
      ]
    },
    {
      "cell_type": "code",
      "execution_count": null,
      "id": "fda6e73b-ebad-4d78-a5e8-bcf8708eabcc",
      "metadata": {},
      "outputs": [],
      "source": []
    },
    {
      "cell_type": "code",
      "execution_count": null,
      "id": "c6766e19-2016-41d8-8c8d-9079dcc3205e",
      "metadata": {},
      "outputs": [],
      "source": []
    },
    {
      "cell_type": "code",
      "execution_count": null,
      "id": "ea789e18-7102-4d62-b689-922a358f99a6",
      "metadata": {},
      "outputs": [],
      "source": [
        "cols = [\"NAME\", \"ADMIN\", \"NAME_LONG\"]\n",
        "ne_full = set(pd.concat([ne[col] for col in cols]))"
      ]
    },
    {
      "cell_type": "code",
      "execution_count": null,
      "id": "86005682-2ddc-4585-8f76-34159ab3962d",
      "metadata": {},
      "outputs": [],
      "source": [
        "fuzzy = {}\n",
        "for c in no_match:\n",
        "    # found = process.extract(c, ne_full, limit=3, scorer=fuzz.partial_ratio)\n",
        "    found = process.extract(c, ne_full, limit=3)\n",
        "    fuzzy[c] = found"
      ]
    },
    {
      "cell_type": "code",
      "execution_count": null,
      "id": "ba7ad164-78ec-4bfb-991a-08d49c77ec89",
      "metadata": {},
      "outputs": [],
      "source": [
        "for k, v in fuzzy.items():\n",
        "    print(k, sorted(v, key=lambda x: x[1], reverse=True))"
      ]
    },
    {
      "cell_type": "code",
      "execution_count": null,
      "id": "4d94f202-e66d-4219-b47f-842f952c9dd4",
      "metadata": {},
      "outputs": [],
      "source": []
    },
    {
      "cell_type": "code",
      "execution_count": null,
      "id": "106eb304-40d0-40cf-b973-7091b8e834eb",
      "metadata": {},
      "outputs": [],
      "source": []
    },
    {
      "cell_type": "code",
      "execution_count": null,
      "id": "0d313b94-c664-46b7-822e-c80ca761c02c",
      "metadata": {},
      "outputs": [],
      "source": []
    },
    {
      "cell_type": "code",
      "execution_count": null,
      "id": "2a5895a7-3759-4b92-8755-9ddbce1e5258",
      "metadata": {},
      "outputs": [],
      "source": [
        "matches = []\n",
        "\n",
        "no_match_datamaps_countries = []\n",
        "\n",
        "for c1 in datamaps_countries:\n",
        "    match = False\n",
        "    for c2 in radio_countries:\n",
        "        if c1.lower() == c2.lower():\n",
        "            matches.append((c1, c2))\n",
        "            match = True\n",
        "    if not match:\n",
        "        no_match_datamaps_countries.append(c1)"
      ]
    },
    {
      "cell_type": "code",
      "execution_count": null,
      "id": "1b578862-c288-4815-8b3c-511027cdec8b",
      "metadata": {},
      "outputs": [],
      "source": []
    },
    {
      "cell_type": "code",
      "execution_count": null,
      "id": "8eb0bc9a-9ae3-4ccb-af91-4034ed3d9517",
      "metadata": {},
      "outputs": [],
      "source": []
    },
    {
      "cell_type": "code",
      "execution_count": null,
      "id": "fc901272-a857-4b92-95bf-10338107e186",
      "metadata": {},
      "outputs": [],
      "source": []
    },
    {
      "cell_type": "code",
      "execution_count": null,
      "id": "6f28dca3-ba69-4b52-842e-7f9b98fc20bb",
      "metadata": {},
      "outputs": [],
      "source": []
    },
    {
      "cell_type": "markdown",
      "id": "f56bbdc5-f040-4a60-8143-9bc69b623197",
      "metadata": {},
      "source": [
        "### Load datamaps data"
      ],
      "outputs": [],
      "execution_count": null
    },
    {
      "cell_type": "code",
      "execution_count": null,
      "id": "6f7af84d-bccd-4216-80f2-5fc6af41eb78",
      "metadata": {},
      "outputs": [],
      "source": [
        "with open(\"data/datamaps.json\") as f:\n",
        "    datamaps = json.load(f)"
      ]
    },
    {
      "cell_type": "code",
      "execution_count": null,
      "id": "36288d76-01cd-485f-82ad-d233d85e5423",
      "metadata": {},
      "outputs": [],
      "source": [
        "datamaps_countries = [\n",
        "    x[\"properties\"][\"name\"]\n",
        "    for x in datamaps\n",
        "]"
      ]
    },
    {
      "cell_type": "code",
      "execution_count": null,
      "id": "b89c48a2-0521-4ccc-8f21-8114b0a003eb",
      "metadata": {},
      "outputs": [],
      "source": [
        "len(datamaps_countries)"
      ]
    },
    {
      "cell_type": "markdown",
      "id": "0219fe57-caf0-400e-bada-6bd44d21d787",
      "metadata": {},
      "source": [
        "## Compare"
      ],
      "outputs": [],
      "execution_count": null
    },
    {
      "cell_type": "code",
      "execution_count": null,
      "id": "1ccc852c-4379-4700-a6a8-0ad8262ade03",
      "metadata": {},
      "outputs": [],
      "source": [
        "matches = []\n",
        "\n",
        "no_match_datamaps_countries = []\n",
        "\n",
        "for c1 in datamaps_countries:\n",
        "    match = False\n",
        "    for c2 in radio_countries:\n",
        "        if c1.lower() == c2.lower():\n",
        "            matches.append((c1, c2))\n",
        "            match = True\n",
        "    if not match:\n",
        "        no_match_datamaps_countries.append(c1)"
      ]
    },
    {
      "cell_type": "code",
      "execution_count": null,
      "id": "6b724f16-5766-4d7d-93fd-79b77297a29e",
      "metadata": {},
      "outputs": [],
      "source": [
        "len(matches)"
      ]
    },
    {
      "cell_type": "code",
      "execution_count": null,
      "id": "c0f0428f-567e-47e9-9728-0a818c715852",
      "metadata": {},
      "outputs": [],
      "source": [
        "no_match_datamaps_countries"
      ]
    },
    {
      "cell_type": "code",
      "execution_count": null,
      "id": "b1dd2dd3-cd7a-445b-ae4d-af6fd102a2c7",
      "metadata": {},
      "outputs": [],
      "source": []
    },
    {
      "cell_type": "code",
      "execution_count": null,
      "id": "4ab38ff6-2802-440c-bb45-c211961d4ffc",
      "metadata": {},
      "outputs": [],
      "source": []
    },
    {
      "cell_type": "code",
      "execution_count": null,
      "id": "82b5aa9c-7656-47f8-a49d-d5d22e9fa118",
      "metadata": {},
      "outputs": [],
      "source": [
        "matches = []\n",
        "\n",
        "no_match_radio_countries = []\n",
        "\n",
        "for c1 in radio_countries:\n",
        "    match = False\n",
        "    for c2 in datamaps_countries:\n",
        "        if c1.lower() == c2.lower():\n",
        "            matches.append((c1, c2))\n",
        "            match = True\n",
        "    if not match:\n",
        "        no_match_radio_countries.append(c1)"
      ]
    },
    {
      "cell_type": "code",
      "execution_count": null,
      "id": "69d8a6db-6f5c-4e53-b01f-c8c0b6897e3e",
      "metadata": {},
      "outputs": [],
      "source": [
        "no_match_radio_countries"
      ]
    },
    {
      "cell_type": "code",
      "execution_count": null,
      "id": "304c3cc3-951c-43dd-a687-6a71af9bfd3f",
      "metadata": {},
      "outputs": [],
      "source": []
    },
    {
      "cell_type": "code",
      "execution_count": null,
      "id": "f8fa6343-fa7a-4264-8841-d56ca920472e",
      "metadata": {},
      "outputs": [],
      "source": []
    },
    {
      "cell_type": "code",
      "execution_count": null,
      "id": "0a4f15d7-d414-42f9-ba66-64bad604fb56",
      "metadata": {},
      "outputs": [],
      "source": []
    }
  ],
  "metadata": {
    "kernelspec": {
      "display_name": "Python 3 (ipykernel)",
      "language": "python",
      "name": "python3"
    },
    "language_info": {
      "codemirror_mode": {
        "name": "ipython",
        "version": 3
      },
      "file_extension": ".py",
      "mimetype": "text/x-python",
      "name": "python",
      "nbconvert_exporter": "python",
      "pygments_lexer": "ipython3",
      "version": "3.10.6 | packaged by conda-forge | (main, Aug 22 2022, 20:41:54) [Clang 13.0.1 ]"
    },
    "vscode": {
      "interpreter": {
        "hash": "9ac73f58c97106662f8bc96a836a6504e62bd753fe731fdc232afe9223b3329e"
      }
    }
  },
  "nbformat": 4,
  "nbformat_minor": 5
}
