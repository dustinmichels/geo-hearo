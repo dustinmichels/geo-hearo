{
  "cells": [
    {
      "cell_type": "markdown",
      "id": "65dab02b-759a-4b4f-ab7f-ec09a2325d9d",
      "metadata": {},
      "source": [
        "# API\n",
        "\n",
        "To download data sample from Radio Garden via API."
      ],
      "outputs": [],
      "execution_count": null
    },
    {
      "cell_type": "code",
      "execution_count": null,
      "id": "9f0f9164-690b-4c30-a2a7-385744cb7d12",
      "metadata": {},
      "outputs": [],
      "source": [
        "%load_ext autoreload\n",
        "%autoreload 2\n",
        "\n",
        "import sys; sys.path.insert(0, '..')"
      ]
    },
    {
      "cell_type": "code",
      "execution_count": null,
      "id": "13d6fdf6-fe7a-4eaa-8a0f-ed41f3f4d0b1",
      "metadata": {},
      "outputs": [],
      "source": [
        "from src.api import Api\n",
        "from src.util import sample_from_dict"
      ]
    },
    {
      "cell_type": "code",
      "execution_count": null,
      "id": "a565760a-1524-45c2-ab31-5e0c0afb775b",
      "metadata": {},
      "outputs": [],
      "source": [
        "import random\n",
        "from rich import print\n",
        "import json"
      ]
    },
    {
      "cell_type": "markdown",
      "id": "82344ed1-e000-426c-9bd3-507b288b679a",
      "metadata": {},
      "source": [
        "### Get Places"
      ],
      "outputs": [],
      "execution_count": null
    },
    {
      "cell_type": "code",
      "execution_count": null,
      "id": "a398ee65-fffa-4a07-b06e-26ec654d9829",
      "metadata": {
        "tags": []
      },
      "outputs": [],
      "source": [
        "resp = Api.get_places()"
      ]
    },
    {
      "cell_type": "code",
      "execution_count": null,
      "id": "88a7a9a9-d11c-4ea8-8657-a2edff2afeac",
      "metadata": {},
      "outputs": [],
      "source": [
        "places = resp.data.list"
      ]
    },
    {
      "cell_type": "markdown",
      "id": "58a71ebf-04d6-4331-ab88-9f5f659b0614",
      "metadata": {},
      "source": [
        "### Get places by country"
      ],
      "outputs": [],
      "execution_count": null
    },
    {
      "cell_type": "code",
      "execution_count": null,
      "id": "8683831e-7e42-47c0-8181-c533aa44431a",
      "metadata": {},
      "outputs": [],
      "source": [
        "from src.process import convert_to_places_by_country"
      ]
    },
    {
      "cell_type": "code",
      "execution_count": null,
      "id": "cb9976f2-07f1-42f7-9934-8dd1737bda2a",
      "metadata": {},
      "outputs": [],
      "source": [
        "p = convert_to_places_by_country(places)"
      ]
    },
    {
      "cell_type": "code",
      "execution_count": null,
      "id": "6e94729d-dcea-4cb0-98a8-6efdb4206b79",
      "metadata": {},
      "outputs": [],
      "source": [
        "type(p)"
      ]
    },
    {
      "cell_type": "code",
      "execution_count": null,
      "id": "f7178f28-8277-4e0f-bfe2-5fd773a8c262",
      "metadata": {},
      "outputs": [],
      "source": [
        "len(p)"
      ]
    },
    {
      "cell_type": "code",
      "execution_count": null,
      "id": "61dd0a91-920c-44ad-b20e-955716b7ad4b",
      "metadata": {
        "tags": []
      },
      "outputs": [],
      "source": [
        "# print(sample_from_dict(p, n=1))"
      ]
    },
    {
      "cell_type": "markdown",
      "id": "5818b50f-5f90-4a6f-be10-2a2487ce1034",
      "metadata": {},
      "source": [
        "### Get random sample within country\n",
        "\n",
        "Get $n$ places from each country"
      ],
      "outputs": [],
      "execution_count": null
    },
    {
      "cell_type": "code",
      "execution_count": null,
      "id": "f36ed4fd-c88e-4fd0-a1be-595d199734eb",
      "metadata": {},
      "outputs": [],
      "source": [
        "from src.process import sample_places_by_country"
      ]
    },
    {
      "cell_type": "code",
      "execution_count": null,
      "id": "925d55f1-116d-48ae-98fe-8b7b1fa086f1",
      "metadata": {
        "tags": []
      },
      "outputs": [],
      "source": [
        "select_places = sample_places_by_country(p, n=3)"
      ]
    },
    {
      "cell_type": "code",
      "execution_count": null,
      "id": "5c5011d8-ce47-4f00-87f9-bbbbbb5690c8",
      "metadata": {
        "tags": []
      },
      "outputs": [],
      "source": [
        "# print(sample_from_dict(select_places, 2))"
      ]
    },
    {
      "cell_type": "markdown",
      "id": "e7386c21-018c-4e9a-a8d9-a836b03bd8c2",
      "metadata": {},
      "source": [
        "### Get first station for each place"
      ],
      "outputs": [],
      "execution_count": null
    },
    {
      "cell_type": "markdown",
      "id": "4e9e7a0f-08d7-45a1-8154-4c1085e7a9f7",
      "metadata": {},
      "source": [
        "Check out channel api"
      ],
      "outputs": [],
      "execution_count": null
    },
    {
      "cell_type": "code",
      "execution_count": null,
      "id": "c4f6af82-e3a8-4ae3-bff5-fdb188e7cbdf",
      "metadata": {},
      "outputs": [],
      "source": [
        "place = random.choice(places)\n",
        "print(place)\n",
        "print(\"---\")\n",
        "\n",
        "ch = Api.get_place_channels(place.id)\n",
        "print(ch)"
      ]
    },
    {
      "cell_type": "code",
      "execution_count": null,
      "id": "1c5f4d78-3a55-4141-8934-f1c8f2f98b70",
      "metadata": {},
      "outputs": [],
      "source": [
        "from src.process import (\n",
        "    select_random_stations,\n",
        "    select_random_stations_multithreaded\n",
        ")"
      ]
    },
    {
      "cell_type": "markdown",
      "id": "dd7374cd-09ee-46f3-bf67-26667c7769c1",
      "metadata": {},
      "source": [
        "Make lil subset"
      ],
      "outputs": [],
      "execution_count": null
    },
    {
      "cell_type": "code",
      "execution_count": null,
      "id": "269a2b07-bda9-4ac9-83e9-d49d711ba467",
      "metadata": {},
      "outputs": [],
      "source": [
        "d = sample_from_dict(select_places, 5)"
      ]
    },
    {
      "cell_type": "code",
      "execution_count": null,
      "id": "263cd5bf-5961-44d4-84ac-4a8dc14f07ae",
      "metadata": {},
      "outputs": [],
      "source": [
        "%%time\n",
        "res = select_random_stations(d)"
      ]
    },
    {
      "cell_type": "code",
      "execution_count": null,
      "id": "83302c21-6cdc-4b18-a39d-45b74b876cb5",
      "metadata": {},
      "outputs": [],
      "source": []
    },
    {
      "cell_type": "code",
      "execution_count": null,
      "id": "c2aa2787-5fa1-4c9b-9a49-94ca74f55286",
      "metadata": {},
      "outputs": [],
      "source": [
        "%%time\n",
        "res = select_random_stations_multithreaded(d)"
      ]
    },
    {
      "cell_type": "code",
      "execution_count": null,
      "id": "2b69053e-e30a-4b64-a3e0-91c883e61ae6",
      "metadata": {},
      "outputs": [],
      "source": []
    },
    {
      "cell_type": "code",
      "execution_count": null,
      "id": "83524934-90b4-4495-b5ff-2f653ddb0ab1",
      "metadata": {},
      "outputs": [],
      "source": []
    },
    {
      "cell_type": "markdown",
      "id": "6975aeeb-49f1-4fff-9277-d6bfc9284f5f",
      "metadata": {},
      "source": [
        "#### All together now!"
      ],
      "outputs": [],
      "execution_count": null
    },
    {
      "cell_type": "code",
      "execution_count": null,
      "id": "1456057a-b0c1-4692-86dc-ac96bf6d23f0",
      "metadata": {},
      "outputs": [],
      "source": [
        "res = select_random_stations_multithreaded(select_places)"
      ]
    },
    {
      "cell_type": "code",
      "execution_count": null,
      "id": "8f74eb1e-5c43-4825-990a-0faeb5837ead",
      "metadata": {},
      "outputs": [],
      "source": [
        "with open(\"saved_channels.json\", \"w\") as f:\n",
        "    json.dump(dict(select_channels), f)"
      ]
    },
    {
      "cell_type": "code",
      "execution_count": null,
      "id": "28e915fd-720c-4a12-a596-d130e05e9bc3",
      "metadata": {},
      "outputs": [],
      "source": []
    },
    {
      "cell_type": "code",
      "execution_count": null,
      "id": "6981e71e-7594-4ab6-b2c3-83db33b7777d",
      "metadata": {},
      "outputs": [],
      "source": []
    },
    {
      "cell_type": "markdown",
      "id": "884adc91-e1a8-411d-acda-daa84487064f",
      "metadata": {},
      "source": [
        "### Geocode"
      ],
      "outputs": [],
      "execution_count": null
    },
    {
      "cell_type": "code",
      "execution_count": null,
      "id": "b6a4a11f-b27d-49b0-bf4c-07cc66e8d7bf",
      "metadata": {},
      "outputs": [],
      "source": [
        "import geocoder"
      ]
    },
    {
      "cell_type": "code",
      "execution_count": null,
      "id": "fd5fdc82-c1ac-4e76-a8eb-1e5593d01c5a",
      "metadata": {},
      "outputs": [],
      "source": [
        "p = places[10]\n",
        "p"
      ]
    },
    {
      "cell_type": "code",
      "execution_count": null,
      "id": "2f21faed-e5da-491d-9fc5-dbe0b468515d",
      "metadata": {},
      "outputs": [],
      "source": [
        "name = p[\"title\"] + \", \" + p[\"country\"]\n",
        "name"
      ]
    },
    {
      "cell_type": "code",
      "execution_count": null,
      "id": "a27ae09e-1353-4e9c-beb0-dd0d8a151c4c",
      "metadata": {},
      "outputs": [],
      "source": [
        "g = geocoder.osm(\"Côte d'Ivoire\")"
      ]
    },
    {
      "cell_type": "code",
      "execution_count": null,
      "id": "7fc6a840-61ff-4c46-950b-6c2eaafa8736",
      "metadata": {},
      "outputs": [],
      "source": [
        "g.state"
      ]
    },
    {
      "cell_type": "code",
      "execution_count": null,
      "id": "5021457a-8e81-4f6a-8928-10fa327bc54a",
      "metadata": {},
      "outputs": [],
      "source": [
        "g.country"
      ]
    },
    {
      "cell_type": "code",
      "execution_count": null,
      "id": "f0c8e424-3f88-4ffd-b5b6-9ab7821e04ed",
      "metadata": {},
      "outputs": [],
      "source": []
    },
    {
      "cell_type": "code",
      "execution_count": null,
      "id": "bd5c189d-14aa-428a-9f41-8ccc0d435902",
      "metadata": {},
      "outputs": [],
      "source": []
    },
    {
      "cell_type": "code",
      "execution_count": null,
      "id": "f61246d0-f918-465c-85e2-845f019125ce",
      "metadata": {},
      "outputs": [],
      "source": []
    }
  ],
  "metadata": {
    "kernelspec": {
      "display_name": "Python 3 (ipykernel)",
      "language": "python",
      "name": "python3"
    },
    "language_info": {
      "codemirror_mode": {
        "name": "ipython",
        "version": 3
      },
      "file_extension": ".py",
      "mimetype": "text/x-python",
      "name": "python",
      "nbconvert_exporter": "python",
      "pygments_lexer": "ipython3",
      "version": "3.10.6"
    },
    "vscode": {
      "interpreter": {
        "hash": "9ac73f58c97106662f8bc96a836a6504e62bd753fe731fdc232afe9223b3329e"
      }
    }
  },
  "nbformat": 4,
  "nbformat_minor": 5
}
