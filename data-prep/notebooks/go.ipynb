{
  "cells": [
    {
      "cell_type": "code",
      "execution_count": null,
      "id": "c403cbe0-059e-4fb2-ab37-ba84faf5616a",
      "metadata": {},
      "outputs": [],
      "source": [
        "import pandas as pd\n",
        "import json"
      ]
    },
    {
      "cell_type": "code",
      "execution_count": null,
      "id": "c6eb1232-18c9-49ff-9481-fc65dc1bc5c8",
      "metadata": {},
      "outputs": [],
      "source": []
    },
    {
      "cell_type": "code",
      "execution_count": null,
      "id": "12a78592-90b5-43cb-b96e-61fba9af6187",
      "metadata": {},
      "outputs": [],
      "source": [
        "df = pd.read_csv(\"../go/out/output.csv\")\n",
        "len(df)"
      ]
    },
    {
      "cell_type": "markdown",
      "id": "4d2c283f-6fb4-4ab5-8ecf-d9d64b914e84",
      "metadata": {},
      "source": [
        "Filter to countries with at least 3 stations"
      ],
      "outputs": [],
      "execution_count": null
    },
    {
      "cell_type": "code",
      "execution_count": null,
      "id": "7aada736-f140-4527-9779-30b7622dced1",
      "metadata": {},
      "outputs": [],
      "source": [
        "s = df.groupby(\"country\").size() > 2\n",
        "s = s[s]"
      ]
    },
    {
      "cell_type": "code",
      "execution_count": null,
      "id": "5de979af-389f-431f-a339-ff2e56823fee",
      "metadata": {},
      "outputs": [],
      "source": [
        "df = df[df[\"country\"].isin(s.index)]\n",
        "len(df)"
      ]
    },
    {
      "cell_type": "markdown",
      "id": "b1ef508c-57c5-4cf9-90a3-d372ad0cb9b3",
      "metadata": {},
      "source": [
        "Sample 3 stations for each country"
      ],
      "outputs": [],
      "execution_count": null
    },
    {
      "cell_type": "code",
      "execution_count": null,
      "id": "388a7ec1-c057-484e-89ef-ac4a879292af",
      "metadata": {},
      "outputs": [],
      "source": [
        "radio = df.groupby(\"country\").sample(3)"
      ]
    },
    {
      "cell_type": "code",
      "execution_count": null,
      "id": "d1f68691-8976-42c8-9963-9e78439e3e31",
      "metadata": {},
      "outputs": [],
      "source": [
        "radio.shape"
      ]
    },
    {
      "cell_type": "code",
      "execution_count": null,
      "id": "db4e9199-779c-44a4-b067-0ab7045149ec",
      "metadata": {},
      "outputs": [],
      "source": [
        "len(radio[\"country\"].unique())"
      ]
    },
    {
      "cell_type": "code",
      "execution_count": null,
      "id": "f6eb26ed-6a52-46b2-9fbd-76e5c85870a4",
      "metadata": {},
      "outputs": [],
      "source": [
        "radio.shape"
      ]
    },
    {
      "cell_type": "markdown",
      "id": "b8d2c0bd-7667-4b7c-8b0b-1ac0bf0d60fe",
      "metadata": {},
      "source": [
        "## Matching up"
      ],
      "outputs": [],
      "execution_count": null
    },
    {
      "cell_type": "code",
      "execution_count": null,
      "id": "634defb0-4266-4049-a7fd-4398da9fe1c1",
      "metadata": {},
      "outputs": [],
      "source": [
        "import geopandas as gpd"
      ]
    },
    {
      "cell_type": "code",
      "execution_count": null,
      "id": "b4fcfb35-80cc-4872-9ec0-13a9ca110e48",
      "metadata": {},
      "outputs": [],
      "source": [
        "datamaps = pd.read_json(\"../data/datamaps.json\")\n",
        "ne = gpd.read_file(\"../data/ne_50m_admin_0_countries.geojson\")\n",
        "centers = gpd.read_file(\"../data/centers.geojson\")"
      ]
    },
    {
      "cell_type": "code",
      "execution_count": null,
      "id": "634c866d-22f7-42df-9d95-f101f26db043",
      "metadata": {},
      "outputs": [],
      "source": []
    },
    {
      "cell_type": "code",
      "execution_count": null,
      "id": "4c1e57b7-8660-4d18-9f3f-987161e643a6",
      "metadata": {},
      "outputs": [],
      "source": [
        "radio_countries = radio[\"country\"].unique()\n",
        "len(radio_countries)"
      ]
    },
    {
      "cell_type": "code",
      "execution_count": null,
      "id": "29ff9cfa-ebc7-4576-97a3-e9571c7f9469",
      "metadata": {},
      "outputs": [],
      "source": [
        "ne_small = ne[ne[\"ADMIN\"].isin(radio_countries)]"
      ]
    },
    {
      "cell_type": "code",
      "execution_count": null,
      "id": "4ae715ea-00db-4b51-ab45-d7e36dd087a0",
      "metadata": {},
      "outputs": [],
      "source": [
        "ne.shape"
      ]
    },
    {
      "cell_type": "code",
      "execution_count": null,
      "id": "8eed973f-6209-4033-899f-428f0a59040f",
      "metadata": {},
      "outputs": [],
      "source": [
        "ne_small.shape"
      ]
    },
    {
      "cell_type": "code",
      "execution_count": null,
      "id": "a5614751-a177-44bf-a7c0-57a52242d5ab",
      "metadata": {},
      "outputs": [],
      "source": []
    },
    {
      "cell_type": "code",
      "execution_count": null,
      "id": "176ea5b5-bf80-421a-918e-d2bfd069c826",
      "metadata": {},
      "outputs": [],
      "source": [
        "# which countries are left in radio but not in ne?\n",
        "radio[~radio[\"country\"].isin(ne_small[\"ADMIN\"])]"
      ]
    },
    {
      "cell_type": "code",
      "execution_count": null,
      "id": "50fb03e5-8c13-4c5b-b22d-f2ec67fa180e",
      "metadata": {},
      "outputs": [],
      "source": [
        "radio[~radio[\"country\"].isin(ne_small[\"ADMIN\"])][\"country\"].unique()"
      ]
    },
    {
      "cell_type": "markdown",
      "id": "ea570b19-402d-44bd-8de6-03197eff83c1",
      "metadata": {},
      "source": [
        "### Where are they?"
      ],
      "outputs": [],
      "execution_count": null
    },
    {
      "cell_type": "code",
      "execution_count": null,
      "id": "ae81f070-a6ae-44fd-9fa1-e7eac862f021",
      "metadata": {},
      "outputs": [],
      "source": []
    },
    {
      "cell_type": "code",
      "execution_count": null,
      "id": "340dc36b-0a47-429f-b78c-c07d50a06521",
      "metadata": {},
      "outputs": [],
      "source": []
    },
    {
      "cell_type": "code",
      "execution_count": null,
      "id": "cbcbff92-b8cd-42e3-a3ad-71bd63bddffd",
      "metadata": {},
      "outputs": [],
      "source": []
    },
    {
      "cell_type": "code",
      "execution_count": null,
      "id": "5b1e251b-f2c3-49b8-acc3-bd26c4d9c79a",
      "metadata": {},
      "outputs": [],
      "source": []
    },
    {
      "cell_type": "code",
      "execution_count": null,
      "id": "5a55c566-5c6a-48af-94e4-4fe5d5971333",
      "metadata": {},
      "outputs": [],
      "source": []
    },
    {
      "cell_type": "code",
      "execution_count": null,
      "id": "7fd6fa95-97ea-44df-bf33-a5cd3ed6d6c6",
      "metadata": {},
      "outputs": [],
      "source": []
    },
    {
      "cell_type": "markdown",
      "id": "833273a8-e06b-4443-b91c-ef52dcba9940",
      "metadata": {},
      "source": [
        "## Did we get everything?"
      ],
      "outputs": [],
      "execution_count": null
    },
    {
      "cell_type": "code",
      "execution_count": null,
      "id": "b2288d0d-091b-4abc-8ed0-ba67677652ec",
      "metadata": {},
      "outputs": [],
      "source": [
        "df = pd.read_csv(\"../go/out/output.csv\")"
      ]
    },
    {
      "cell_type": "code",
      "execution_count": null,
      "id": "fbb6a986-7d48-4708-9b03-7a94e1fdfb7e",
      "metadata": {},
      "outputs": [],
      "source": [
        "len(df[\"place_id\"].unique())"
      ]
    },
    {
      "cell_type": "code",
      "execution_count": null,
      "id": "7c7ec7a7-39d6-4962-be63-356b88e3c16b",
      "metadata": {
        "tags": []
      },
      "outputs": [],
      "source": []
    },
    {
      "cell_type": "code",
      "execution_count": null,
      "id": "bb89735c-25cc-479c-955a-8b6ac6e9de6b",
      "metadata": {},
      "outputs": [],
      "source": [
        "with open(\"../go/out/places.json\") as f:\n",
        "    places = json.load(f)"
      ]
    },
    {
      "cell_type": "code",
      "execution_count": null,
      "id": "1e02ae67-7f8e-4efa-a454-206f03836835",
      "metadata": {},
      "outputs": [],
      "source": [
        "places = places[\"data\"][\"list\"]"
      ]
    },
    {
      "cell_type": "code",
      "execution_count": null,
      "id": "702cc1d7-e8f3-474c-b95a-e58566b17639",
      "metadata": {},
      "outputs": [],
      "source": [
        "len(places)"
      ]
    },
    {
      "cell_type": "code",
      "execution_count": null,
      "id": "5d993aee-1731-4d38-a547-41ec3abff2ae",
      "metadata": {},
      "outputs": [],
      "source": []
    },
    {
      "cell_type": "code",
      "execution_count": null,
      "id": "14efd95f-9886-43af-90f4-e3ce7d48fb11",
      "metadata": {},
      "outputs": [],
      "source": [
        "a = set(df[\"place_id\"].unique())\n",
        "len(a)"
      ]
    },
    {
      "cell_type": "code",
      "execution_count": null,
      "id": "da921e12-b02c-45af-ab8e-335a38683d32",
      "metadata": {},
      "outputs": [],
      "source": [
        "b = set([place[\"id\"] for place in places])\n",
        "len(b)"
      ]
    },
    {
      "cell_type": "code",
      "execution_count": null,
      "id": "dcc820d5-53c8-42bb-bacf-5343aaec12b3",
      "metadata": {},
      "outputs": [],
      "source": [
        "b - a"
      ]
    },
    {
      "cell_type": "code",
      "execution_count": null,
      "id": "13d36d0b-9856-4a66-a02f-7deb95b98571",
      "metadata": {},
      "outputs": [],
      "source": []
    },
    {
      "cell_type": "code",
      "execution_count": null,
      "id": "571a8823-50d1-4ebe-914b-1577b85b753e",
      "metadata": {},
      "outputs": [],
      "source": []
    },
    {
      "cell_type": "code",
      "execution_count": null,
      "id": "c5de936a-78c2-4eb7-af2a-3b38bb24d7f8",
      "metadata": {},
      "outputs": [],
      "source": []
    }
  ],
  "metadata": {
    "kernelspec": {
      "display_name": "Python 3 (ipykernel)",
      "language": "python",
      "name": "python3"
    },
    "language_info": {
      "codemirror_mode": {
        "name": "ipython",
        "version": 3
      },
      "file_extension": ".py",
      "mimetype": "text/x-python",
      "name": "python",
      "nbconvert_exporter": "python",
      "pygments_lexer": "ipython3",
      "version": "3.10.6"
    }
  },
  "nbformat": 4,
  "nbformat_minor": 5
}
