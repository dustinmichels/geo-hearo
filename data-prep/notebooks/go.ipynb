{
  "cells": [
    {
      "cell_type": "code",
      "execution_count": null,
      "id": "c403cbe0-059e-4fb2-ab37-ba84faf5616a",
      "metadata": {},
      "outputs": [],
      "source": [
        "import pandas as pd\n",
        "import json"
      ]
    },
    {
      "cell_type": "code",
      "execution_count": null,
      "id": "c6eb1232-18c9-49ff-9481-fc65dc1bc5c8",
      "metadata": {},
      "outputs": [],
      "source": []
    },
    {
      "cell_type": "code",
      "execution_count": null,
      "id": "12a78592-90b5-43cb-b96e-61fba9af6187",
      "metadata": {},
      "outputs": [],
      "source": [
        "df = pd.read_csv(\"../crawl/out/output.csv\")\n",
        "len(df)"
      ]
    },
    {
      "cell_type": "markdown",
      "id": "3d3e6ac5-cd3b-4438-8957-ad33d37b0250",
      "metadata": {},
      "source": [
        "## Prepare radio data"
      ],
      "outputs": [],
      "execution_count": null
    },
    {
      "cell_type": "markdown",
      "id": "4d2c283f-6fb4-4ab5-8ecf-d9d64b914e84",
      "metadata": {},
      "source": [
        "Filter to countries with at least 3 stations"
      ],
      "outputs": [],
      "execution_count": null
    },
    {
      "cell_type": "code",
      "execution_count": null,
      "id": "7aada736-f140-4527-9779-30b7622dced1",
      "metadata": {},
      "outputs": [],
      "source": [
        "s = df.groupby(\"country\").size() >= 3\n",
        "s = s[s]"
      ]
    },
    {
      "cell_type": "code",
      "execution_count": null,
      "id": "5de979af-389f-431f-a339-ff2e56823fee",
      "metadata": {},
      "outputs": [],
      "source": [
        "df = df[df[\"country\"].isin(s.index)]\n",
        "len(df)"
      ]
    },
    {
      "cell_type": "markdown",
      "id": "b1ef508c-57c5-4cf9-90a3-d372ad0cb9b3",
      "metadata": {},
      "source": [
        "Sample 3 stations for each country"
      ],
      "outputs": [],
      "execution_count": null
    },
    {
      "cell_type": "code",
      "execution_count": null,
      "id": "388a7ec1-c057-484e-89ef-ac4a879292af",
      "metadata": {},
      "outputs": [],
      "source": [
        "radio = df.groupby(\"country\").sample(3)"
      ]
    },
    {
      "cell_type": "code",
      "execution_count": null,
      "id": "d1f68691-8976-42c8-9963-9e78439e3e31",
      "metadata": {},
      "outputs": [],
      "source": [
        "radio.shape"
      ]
    },
    {
      "cell_type": "code",
      "execution_count": null,
      "id": "db4e9199-779c-44a4-b067-0ab7045149ec",
      "metadata": {},
      "outputs": [],
      "source": [
        "len(radio[\"country\"].unique())"
      ]
    },
    {
      "cell_type": "code",
      "execution_count": null,
      "id": "f6eb26ed-6a52-46b2-9fbd-76e5c85870a4",
      "metadata": {},
      "outputs": [],
      "source": [
        "radio.shape"
      ]
    },
    {
      "cell_type": "code",
      "execution_count": null,
      "id": "2b72204e-9bfe-4314-a8fe-d63e6ef82985",
      "metadata": {},
      "outputs": [],
      "source": []
    },
    {
      "cell_type": "markdown",
      "id": "b8d2c0bd-7667-4b7c-8b0b-1ac0bf0d60fe",
      "metadata": {},
      "source": [
        "## Matching up"
      ],
      "outputs": [],
      "execution_count": null
    },
    {
      "cell_type": "code",
      "execution_count": null,
      "id": "634defb0-4266-4049-a7fd-4398da9fe1c1",
      "metadata": {},
      "outputs": [],
      "source": [
        "import geopandas as gpd"
      ]
    },
    {
      "cell_type": "code",
      "execution_count": null,
      "id": "b4fcfb35-80cc-4872-9ec0-13a9ca110e48",
      "metadata": {},
      "outputs": [],
      "source": [
        "datamaps = pd.read_json(\"../data/datamaps.json\")\n",
        "ne = gpd.read_file(\"../data/ne_110m_admin_0_countries.geojson\")\n",
        "centers = gpd.read_file(\"../data/centers.geojson\")"
      ]
    },
    {
      "cell_type": "code",
      "execution_count": null,
      "id": "4c1e57b7-8660-4d18-9f3f-987161e643a6",
      "metadata": {},
      "outputs": [],
      "source": [
        "radio_countries = radio[\"country\"].unique()\n",
        "len(radio_countries)"
      ]
    },
    {
      "cell_type": "code",
      "execution_count": null,
      "id": "7581eb38-208d-44b6-aa24-f9304200d747",
      "metadata": {},
      "outputs": [],
      "source": []
    },
    {
      "cell_type": "markdown",
      "id": "2f3d695a-5486-4461-8e94-8901c7e30976",
      "metadata": {},
      "source": [
        "### Merge with NE"
      ],
      "outputs": [],
      "execution_count": null
    },
    {
      "cell_type": "code",
      "execution_count": null,
      "id": "f2f88882-fed1-4df8-9a0c-d6271bcba88e",
      "metadata": {},
      "outputs": [],
      "source": [
        "df = pd.merge(radio, ne, left_on=\"country\", right_on=\"SUBUNIT\", suffixes=('_radio', '_ne'))\n",
        "df.shape"
      ]
    },
    {
      "cell_type": "code",
      "execution_count": null,
      "id": "f4b9b800-7cb7-457c-a74f-d755fcb9a01d",
      "metadata": {},
      "outputs": [],
      "source": [
        "radio[~radio[\"country\"].isin(df[\"country\"])][\"country\"].unique()"
      ]
    },
    {
      "cell_type": "code",
      "execution_count": null,
      "id": "855df771-3fe0-4a58-8069-d0608722af00",
      "metadata": {},
      "outputs": [],
      "source": []
    },
    {
      "cell_type": "markdown",
      "id": "68d022a4-80ce-402d-aec5-a37ac6f24983",
      "metadata": {},
      "source": [
        "### Filter to datamaps"
      ],
      "outputs": [],
      "execution_count": null
    },
    {
      "cell_type": "code",
      "execution_count": null,
      "id": "fab83547-f91e-41de-bfdc-6063adb2124d",
      "metadata": {
        "tags": []
      },
      "outputs": [],
      "source": [
        "df2 = df[df[\"ADM0_A3\"].isin(datamaps[\"id\"])]\n",
        "df2.shape"
      ]
    },
    {
      "cell_type": "code",
      "execution_count": null,
      "id": "9fe178b1-a2a8-4645-a6a3-93772ff116a0",
      "metadata": {},
      "outputs": [],
      "source": [
        "df[~df[\"country\"].isin(df2[\"country\"])][\"country\"].unique()"
      ]
    },
    {
      "cell_type": "code",
      "execution_count": null,
      "id": "24bf5aea-2d69-4c16-b57f-98384471cd29",
      "metadata": {},
      "outputs": [],
      "source": []
    },
    {
      "cell_type": "markdown",
      "id": "7b2b2971-a144-4ab7-95c4-c0307d63d45b",
      "metadata": {},
      "source": [
        "### Filter to centers"
      ],
      "outputs": [],
      "execution_count": null
    },
    {
      "cell_type": "code",
      "execution_count": null,
      "id": "47d117d3-6766-40a2-a52f-b43865b903a4",
      "metadata": {},
      "outputs": [],
      "source": [
        "df3 = df2[df2[\"ISO_A2_EH\"].isin(centers[\"ISO\"])]\n",
        "df3.shape"
      ]
    },
    {
      "cell_type": "code",
      "execution_count": null,
      "id": "a1f322ea-77b0-43e3-940c-fdd209983858",
      "metadata": {},
      "outputs": [],
      "source": [
        "df2[~df2[\"country\"].isin(df3[\"country\"])][\"country\"].unique()"
      ]
    },
    {
      "cell_type": "code",
      "execution_count": null,
      "id": "d26a48c1-6701-460d-8d11-874d1a678c1e",
      "metadata": {},
      "outputs": [],
      "source": []
    },
    {
      "cell_type": "markdown",
      "id": "a809372f-06f9-4a01-ab5d-c7b8ef33d545",
      "metadata": {},
      "source": [
        "## Finish"
      ],
      "outputs": [],
      "execution_count": null
    },
    {
      "cell_type": "code",
      "execution_count": null,
      "id": "79a2ecb7-5cf9-4acb-a187-f807a8de2e13",
      "metadata": {},
      "outputs": [],
      "source": [
        "out = df3"
      ]
    },
    {
      "cell_type": "code",
      "execution_count": null,
      "id": "99e243ff-9efc-4880-a1f2-b7a1f3b0a6df",
      "metadata": {},
      "outputs": [],
      "source": [
        "use_cols = list(radio.columns) + ['ADM0_A3', 'ISO_A2_EH']"
      ]
    },
    {
      "cell_type": "code",
      "execution_count": null,
      "id": "ec8056fe-39ed-4929-81ba-b616bf031c80",
      "metadata": {},
      "outputs": [],
      "source": [
        "out = out[use_cols]"
      ]
    },
    {
      "cell_type": "code",
      "execution_count": null,
      "id": "cacef1dd-695b-429d-be23-af3b490d5596",
      "metadata": {},
      "outputs": [],
      "source": [
        "out = out.rename({\n",
        "    \"ADM0_A3\": \"three_code\",\n",
        "    \"ISO_A2_EH\": \"two_code\",\n",
        "}, axis=1)"
      ]
    },
    {
      "cell_type": "code",
      "execution_count": null,
      "id": "e961ca1f-cdb3-4196-819e-efd02d08ccfe",
      "metadata": {},
      "outputs": [],
      "source": [
        "out"
      ]
    },
    {
      "cell_type": "code",
      "execution_count": null,
      "id": "5990b83d-d1d3-42e8-97cc-00be0f4c689f",
      "metadata": {},
      "outputs": [],
      "source": []
    }
  ],
  "metadata": {
    "kernelspec": {
      "display_name": "Python 3 (ipykernel)",
      "language": "python",
      "name": "python3"
    },
    "language_info": {
      "codemirror_mode": {
        "name": "ipython",
        "version": 3
      },
      "file_extension": ".py",
      "mimetype": "text/x-python",
      "name": "python",
      "nbconvert_exporter": "python",
      "pygments_lexer": "ipython3",
      "version": "3.10.6"
    }
  },
  "nbformat": 4,
  "nbformat_minor": 5
}
